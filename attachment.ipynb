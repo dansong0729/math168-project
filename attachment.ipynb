{
 "cells": [
  {
   "cell_type": "code",
   "execution_count": 5,
   "metadata": {},
   "outputs": [],
   "source": [
    "import numpy as np\n",
    "import networkx as nx\n",
    "from scipy.stats import rv_discrete\n",
    "import matplotlib.pyplot as plt"
   ]
  },
  {
   "cell_type": "code",
   "execution_count": 6,
   "metadata": {},
   "outputs": [],
   "source": [
    "def krapivsky(N, p, l, mu, iters):\n",
    "    '''Returns a nx.MultiDiGraph'''\n",
    "    #track degs, plus constant offset\n",
    "    in_degs = np.full(N, l)\n",
    "    out_degs = np.full(N, mu)\n",
    "    xk = np.arange(N) #node labels\n",
    "    #initialize graph with N nodes and no edges\n",
    "    G = nx.MultiDiGraph()\n",
    "    G.add_nodes_from(xk)\n",
    "    for _ in range(iters):\n",
    "        #choose node to point to, same regardless if node is added\n",
    "        p_in = in_degs/np.sum(in_degs)\n",
    "        end_node = rv_discrete(values=(xk, p_in)).rvs()\n",
    "        in_degs[end_node] += 1\n",
    "        if np.random.rand(1)<=p:\n",
    "            #add a node\n",
    "            in_degs = np.append(in_degs, (l,))\n",
    "            out_degs = np.append(out_degs, (mu+1,))\n",
    "            xk = np.arange(len(in_degs))\n",
    "            start_node = xk[-1] #edge always originates from new node\n",
    "        else:\n",
    "            #only add an edge\n",
    "            p_out = out_degs/np.sum(out_degs)\n",
    "            start_node = rv_discrete(values=(xk, p_out)).rvs()\n",
    "            out_degs[start_node] += 1\n",
    "        G.add_edge(start_node, end_node)\n",
    "    return G"
   ]
  },
  {
   "cell_type": "code",
   "execution_count": 7,
   "metadata": {},
   "outputs": [],
   "source": [
    "def signed(N, p, l, mu, iters, ratio):\n",
    "    '''Returns a nx.MultiDiGraph\n",
    "    l and mu must be array-like, one entry for each sign'''\n",
    "    #track degs\n",
    "    in_degs = np.zeros(N)\n",
    "    out_degs = np.zeros(N)\n",
    "    xk = np.arange(N) #node labels\n",
    "    #initialize graph with N nodes and no edges\n",
    "    G = nx.MultiDiGraph()\n",
    "    G.add_nodes_from(xk)\n",
    "    for _ in range(iters):\n",
    "        #choose sign of edge\n",
    "        if np.random.rand(1)<=ratio:\n",
    "            sign = -1\n",
    "        else:\n",
    "            sign = 1\n",
    "        #choose node to point to, same regardless if node is added\n",
    "        weights = sign*in_degs + l[sign-1]\n",
    "        weights = np.clip(weights, 0, None)\n",
    "        p_in = weights/np.sum(weights)\n",
    "        end_node = rv_discrete(values=(xk, p_in)).rvs()\n",
    "        in_degs[end_node] += sign\n",
    "        if np.random.rand(1)<=p:\n",
    "            #add a node\n",
    "            in_degs = np.append(in_degs, (0,))\n",
    "            out_degs = np.append(out_degs, (sign,))\n",
    "            xk = np.arange(len(in_degs))\n",
    "            start_node = xk[-1] #edge always originates from new node\n",
    "        else:\n",
    "            #only add an edge\n",
    "            weights = sign*out_degs + mu[sign-1]\n",
    "            weights = np.clip(weights, 0, None)\n",
    "            p_out = weights/np.sum(weights)\n",
    "            start_node = rv_discrete(values=(xk, p_out)).rvs()\n",
    "            out_degs[start_node] += sign\n",
    "        G.add_edge(start_node, end_node, weight=sign)\n",
    "    return G"
   ]
  },
  {
   "cell_type": "code",
   "execution_count": 9,
   "metadata": {},
   "outputs": [],
   "source": [
    "testing = krapivsky(4076, 0, 1, 1, 10000)"
   ]
  },
  {
   "cell_type": "code",
   "execution_count": 23,
   "metadata": {},
   "outputs": [
    {
     "data": {
      "image/png": "[encoded data removed]",
      "text/plain": [
       "<Figure size 432x288 with 1 Axes>"
      ]
     },
     "metadata": {},
     "output_type": "display_data"
    }
   ],
   "source": [
    "nx.draw(testing)"
   ]
  },
  {
   "cell_type": "code",
   "execution_count": 10,
   "metadata": {},
   "outputs": [
    {
     "data": {
      "text/plain": [
       "'Name: \\nType: MultiDiGraph\\nNumber of nodes: 4076\\nNumber of edges: 10000\\nAverage in degree:   2.4534\\nAverage out degree:   2.4534'"
      ]
     },
     "execution_count": 10,
     "metadata": {},
     "output_type": "execute_result"
    }
   ],
   "source": [
    "nx.info(testing)"
   ]
  },
  {
   "cell_type": "code",
   "execution_count": 29,
   "metadata": {},
   "outputs": [],
   "source": [
    "testing = signed(10, 0.1, [1, 1], [1, 1], 2000, 0.2)"
   ]
  },
  {
   "cell_type": "code",
   "execution_count": 11,
   "metadata": {},
   "outputs": [],
   "source": [
    "import pickle"
   ]
  },
  {
   "cell_type": "code",
   "execution_count": 12,
   "metadata": {},
   "outputs": [],
   "source": [
    "with open(\"krapivsky.pkl\", \"wb\") as fp:\n",
    "    pickle.dump(testing, fp)"
   ]
  },
  {
   "cell_type": "code",
   "execution_count": 14,
   "metadata": {},
   "outputs": [],
   "source": [
    "signedmodel = signed(4076, 0, [1, 1], [1, 1], 10000, 740/10000)"
   ]
  },
  {
   "cell_type": "code",
   "execution_count": 15,
   "metadata": {},
   "outputs": [
    {
     "data": {
      "text/plain": [
       "'Name: \\nType: MultiDiGraph\\nNumber of nodes: 4076\\nNumber of edges: 10000\\nAverage in degree:   2.4534\\nAverage out degree:   2.4534'"
      ]
     },
     "execution_count": 15,
     "metadata": {},
     "output_type": "execute_result"
    }
   ],
   "source": [
    "nx.info(signedmodel)"
   ]
  },
  {
   "cell_type": "code",
   "execution_count": 18,
   "metadata": {},
   "outputs": [],
   "source": [
    "positive = [(u,v) for u,v,e in signedmodel.edges(data=True) if e[\"weight\"] == 1]\n",
    "negative = [(u,v) for u,v,e in signedmodel.edges(data=True) if e[\"weight\"] == -1]"
   ]
  },
  {
   "cell_type": "code",
   "execution_count": 19,
   "metadata": {},
   "outputs": [
    {
     "name": "stdout",
     "output_type": "stream",
     "text": [
      "9221\n",
      "779\n"
     ]
    }
   ],
   "source": [
    "print(len(positive))\n",
    "print(len(negative))"
   ]
  },
  {
   "cell_type": "code",
   "execution_count": 21,
   "metadata": {},
   "outputs": [],
   "source": [
    "with open(\"signed_krapivsky.pkl\", \"wb\") as fp:\n",
    "    pickle.dump(signedmodel, fp)"
   ]
  },
  {
   "cell_type": "code",
   "execution_count": null,
   "metadata": {},
   "outputs": [],
   "source": []
  }
 ],
 "metadata": {
  "kernelspec": {
   "display_name": "Python 3",
   "language": "python",
   "name": "python3"
  },
  "language_info": {
   "codemirror_mode": {
    "name": "ipython",
    "version": 3
   },
   "file_extension": ".py",
   "mimetype": "text/x-python",
   "name": "python",
   "nbconvert_exporter": "python",
   "pygments_lexer": "ipython3",
   "version": "3.6.5"
  }
 },
 "nbformat": 4,
 "nbformat_minor": 2
}
